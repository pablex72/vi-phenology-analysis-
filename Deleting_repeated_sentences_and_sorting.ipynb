{
  "nbformat": 4,
  "nbformat_minor": 0,
  "metadata": {
    "colab": {
      "provenance": [],
      "authorship_tag": "ABX9TyP5U97FBw/4PGpRUTjCsC9P",
      "include_colab_link": true
    },
    "kernelspec": {
      "name": "python3",
      "display_name": "Python 3"
    },
    "language_info": {
      "name": "python"
    }
  },
  "cells": [
    {
      "cell_type": "markdown",
      "metadata": {
        "id": "view-in-github",
        "colab_type": "text"
      },
      "source": [
        "<a href=\"https://colab.research.google.com/github/pablex72/vi-phenology-analysis-/blob/main/Deleting_repeated_sentences_and_sorting.ipynb\" target=\"_parent\"><img src=\"https://colab.research.google.com/assets/colab-badge.svg\" alt=\"Open In Colab\"/></a>"
      ]
    },
    {
      "cell_type": "code",
      "execution_count": null,
      "metadata": {
        "colab": {
          "base_uri": "https://localhost:8080/"
        },
        "id": "pjEVbyIFnkmL",
        "outputId": "a6ef9acb-3e0c-40b0-c4aa-bac87337fe20"
      },
      "outputs": [
        {
          "output_type": "stream",
          "name": "stdout",
          "text": [
            "Cleaned list has been saved to cleaned_abbreviations.txt\n"
          ]
        }
      ],
      "source": [
        "# Read input from a .txt file\n",
        "with open(\"input.txt\", \"r\") as file:\n",
        "    input_text = file.read()\n",
        "\n",
        "# Rest of the program remains the same as before\n",
        "\n",
        "# Split the input text into lines\n",
        "lines = input_text.strip().split(\"\\n\")\n",
        "\n",
        "# Extract and clean the data\n",
        "abbreviations = set()\n",
        "for line in lines:\n",
        "    abbreviation = line.split(\":\")[0].strip()\n",
        "    if abbreviation not in abbreviations:\n",
        "        abbreviations.add(abbreviation)\n",
        "\n",
        "# Format the data according to the specified pattern\n",
        "formatted_data = \"\\n\".join([f\"{abbreviation.ljust(25)}{meaning}\" for abbreviation, meaning in zip(sorted(abbreviations), abbreviations)])\n",
        "\n",
        "# Write the cleaned list to a new .txt file\n",
        "with open(\"cleaned_abbreviations.txt\", \"w\") as file:\n",
        "    file.write(formatted_data)\n",
        "\n",
        "print(\"Cleaned list has been saved to cleaned_abbreviations.txt\")\n"
      ]
    },
    {
      "cell_type": "code",
      "source": [
        "def clean_and_save(input_file, output_file):\n",
        "    # Read input from the file\n",
        "    with open(input_file, 'r') as file:\n",
        "        lines = file.readlines()\n",
        "\n",
        "    # Sort lines in alphabetical order\n",
        "    lines.sort()\n",
        "\n",
        "    # Remove duplicates and preserve order\n",
        "    seen_lines = set()\n",
        "    unique_lines = [line for line in lines if line not in seen_lines and not seen_lines.add(line)]\n",
        "\n",
        "    # Write cleaned content to a new file\n",
        "    with open(output_file, 'w') as file:\n",
        "        file.writelines(unique_lines)\n",
        "\n",
        "# Replace 'input.txt' with the actual path to your input file\n",
        "# Replace 'output.txt' with the desired name for the cleaned output file\n",
        "clean_and_save('input.txt', 'output.txt')\n",
        "\n",
        "print(\"Duplicate lines removed, content sorted alphabetically, and saved to 'output.txt'\")\n"
      ],
      "metadata": {
        "colab": {
          "base_uri": "https://localhost:8080/"
        },
        "id": "bsyTTbetqRJc",
        "outputId": "e87b594c-66a3-40b5-e32b-0e72e4b852f9"
      },
      "execution_count": null,
      "outputs": [
        {
          "output_type": "stream",
          "name": "stdout",
          "text": [
            "Duplicate lines removed, content sorted alphabetically, and saved to 'output.txt'\n"
          ]
        }
      ]
    }
  ]
}